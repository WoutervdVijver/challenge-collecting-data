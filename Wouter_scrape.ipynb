{
 "cells": [
  {
   "cell_type": "code",
   "execution_count": 7,
   "metadata": {},
   "outputs": [],
   "source": [
    "from bs4 import BeautifulSoup\n",
    "import pandas as pd\n",
    "import requests\n",
    "\n",
    "from selenium import webdriver\n",
    "#from selenium.webdriver.support.ui import WebDriverWait\n",
    "#from selenium.webdriver.support import expected_conditions as EC\n",
    "#from selenium.common.exceptions import TimeoutException\n",
    "#from selenium.webdriver.common.by import By\n",
    "\n",
    "\n",
    "\n",
    "url = 'https://www.immoweb.be/en/search/castle/for-sale?countries=BE&page=1&orderBy=relevance'\n",
    "\n",
    "driver = webdriver.Firefox()\n",
    "driver.implicitly_wait(1)\n",
    "driver.get(url)\n",
    "\n",
    "element = driver.find_element(by='id', value='uc-btn-accept-banner')\n",
    "element.click()\n",
    "\n",
    "soup_file = driver.page_source\n",
    "soup = BeautifulSoup(soup_file)\n",
    "\n",
    "\n",
    "driver.close()\n"
   ]
  },
  {
   "cell_type": "code",
   "execution_count": 5,
   "metadata": {},
   "outputs": [],
   "source": [
    "def cooking_soup(url):\n",
    "   driver = webdriver.Firefox()\n",
    "   driver.implicitly_wait(3)\n",
    "   driver.get(url)\n",
    "\n",
    "   #element = driver.find_element(by='id', value='uc-btn-accept-banner')\n",
    "   #element.click()\n",
    "\n",
    "   soup_file = driver.page_source\n",
    "   soup = BeautifulSoup(soup_file)\n",
    "   driver.close()\n",
    "   return soup\n",
    "\n",
    "\n",
    "def url_getter(soup):\n",
    "   list_of_urls = []\n",
    "   first_tags = soup.find_all('li', attrs={'class': 'search-results__item'})\n",
    "   houses = []\n",
    "   for tag in first_tags:\n",
    "      houses += tag.find_all('a', attrs={'class': 'card__title-link'})\n",
    "   for house in houses:\n",
    "      list_of_urls.append(house.get('href'))\n",
    "   return list_of_urls"
   ]
  },
  {
   "cell_type": "code",
   "execution_count": 18,
   "metadata": {},
   "outputs": [],
   "source": [
    "def get_next_page(soup):\n",
    "        button = soup.find('ul', attrs={'class': 'pagination'})\n",
    "        ref = button.find('a', 'pagination__link pagination__link--next button button--text button--size-small')\n",
    "        if ref:\n",
    "            return ref.get('href')\n",
    "        else:\n",
    "            return None\n",
    "    \n",
    "    "
   ]
  },
  {
   "cell_type": "code",
   "execution_count": 37,
   "metadata": {},
   "outputs": [],
   "source": [
    "url = 'https://www.immoweb.be/en/search/duplex/for-sale?countries=BE&page=1&orderBy=relevance'\n",
    "all_url = []\n",
    "new_url = url\n",
    "while new_url and (len(all_url)<100):\n",
    "    soup = cooking_soup(new_url)\n",
    "    new_url = get_next_page(soup)\n",
    "    list = url_getter(soup)\n",
    "    all_url += list\n",
    "url_list = pd.Series(all_url)\n",
    "url_list.to_csv('urls')\n"
   ]
  },
  {
   "cell_type": "code",
   "execution_count": 39,
   "metadata": {},
   "outputs": [],
   "source": [
    "sub_types = ['bungalow', 'castle', 'country-cottage', 'apartment-block', 'town-house', 'chalet', 'farmhouse', 'exceptional-property','mixed-use-building', 'mansion', 'villa', 'manor-house','pavilion', 'other-property', 'duplex', 'triplex', 'studio', 'penthouse', 'loft']"
   ]
  },
  {
   "cell_type": "code",
   "execution_count": 40,
   "metadata": {},
   "outputs": [],
   "source": [
    "def get_all_urls(name: str):\n",
    "    all_url = []\n",
    "    new_url = f\"https://www.immoweb.be/en/search/{name}/for-sale?countries=BE&page=1&orderBy=relevance\"\n",
    "    while new_url and (len(all_url)<10):\n",
    "        soup = cooking_soup(new_url)\n",
    "        new_url = get_next_page(soup)\n",
    "        list = url_getter(soup)\n",
    "        all_url += list\n",
    "    url_list = pd.Series(all_url)\n",
    "    url_list.to_csv(f\"urls_{name}\")\n",
    "\n",
    "for i in sub_types[:3]:\n",
    "    get_all_urls(i)"
   ]
  },
  {
   "cell_type": "code",
   "execution_count": 41,
   "metadata": {},
   "outputs": [],
   "source": [
    "from threading import Thread\n",
    "\n",
    "class urlScrapper(Thread):\n",
    "\n",
    "    def __init__(self, name):\n",
    "        super().__init__(self)\n",
    "        self.name = name\n",
    "    \n",
    "    def run(self):\n",
    "        get_all_urls(self.name)"
   ]
  },
  {
   "cell_type": "code",
   "execution_count": 43,
   "metadata": {},
   "outputs": [
    {
     "ename": "AssertionError",
     "evalue": "group argument must be None for now",
     "output_type": "error",
     "traceback": [
      "\u001b[0;31m---------------------------------------------------------------------------\u001b[0m",
      "\u001b[0;31mAssertionError\u001b[0m                            Traceback (most recent call last)",
      "\u001b[0;32m<ipython-input-43-b263f4bc211c>\u001b[0m in \u001b[0;36m<module>\u001b[0;34m\u001b[0m\n\u001b[1;32m      1\u001b[0m \u001b[0mdict\u001b[0m \u001b[0;34m=\u001b[0m \u001b[0;34m{\u001b[0m\u001b[0;34m}\u001b[0m\u001b[0;34m\u001b[0m\u001b[0;34m\u001b[0m\u001b[0m\n\u001b[1;32m      2\u001b[0m \u001b[0;32mfor\u001b[0m \u001b[0mname\u001b[0m \u001b[0;32min\u001b[0m \u001b[0msub_types\u001b[0m\u001b[0;34m[\u001b[0m\u001b[0;34m:\u001b[0m\u001b[0;36m3\u001b[0m\u001b[0;34m]\u001b[0m\u001b[0;34m:\u001b[0m\u001b[0;34m\u001b[0m\u001b[0;34m\u001b[0m\u001b[0m\n\u001b[0;32m----> 3\u001b[0;31m     \u001b[0mdict\u001b[0m\u001b[0;34m[\u001b[0m\u001b[0mname\u001b[0m\u001b[0;34m]\u001b[0m \u001b[0;34m=\u001b[0m \u001b[0murlScrapper\u001b[0m\u001b[0;34m(\u001b[0m\u001b[0mname\u001b[0m\u001b[0;34m)\u001b[0m\u001b[0;34m\u001b[0m\u001b[0;34m\u001b[0m\u001b[0m\n\u001b[0m\u001b[1;32m      4\u001b[0m \u001b[0;34m\u001b[0m\u001b[0m\n\u001b[1;32m      5\u001b[0m \u001b[0;32mfor\u001b[0m \u001b[0mname\u001b[0m \u001b[0;32min\u001b[0m \u001b[0msub_types\u001b[0m\u001b[0;34m[\u001b[0m\u001b[0;34m:\u001b[0m\u001b[0;36m3\u001b[0m\u001b[0;34m]\u001b[0m\u001b[0;34m:\u001b[0m\u001b[0;34m\u001b[0m\u001b[0;34m\u001b[0m\u001b[0m\n",
      "\u001b[0;32m<ipython-input-41-3d05bce432a6>\u001b[0m in \u001b[0;36m__init__\u001b[0;34m(self, name)\u001b[0m\n\u001b[1;32m      4\u001b[0m \u001b[0;34m\u001b[0m\u001b[0m\n\u001b[1;32m      5\u001b[0m     \u001b[0;32mdef\u001b[0m \u001b[0m__init__\u001b[0m\u001b[0;34m(\u001b[0m\u001b[0mself\u001b[0m\u001b[0;34m,\u001b[0m \u001b[0mname\u001b[0m\u001b[0;34m)\u001b[0m\u001b[0;34m:\u001b[0m\u001b[0;34m\u001b[0m\u001b[0;34m\u001b[0m\u001b[0m\n\u001b[0;32m----> 6\u001b[0;31m         \u001b[0msuper\u001b[0m\u001b[0;34m(\u001b[0m\u001b[0;34m)\u001b[0m\u001b[0;34m.\u001b[0m\u001b[0m__init__\u001b[0m\u001b[0;34m(\u001b[0m\u001b[0mself\u001b[0m\u001b[0;34m)\u001b[0m\u001b[0;34m\u001b[0m\u001b[0;34m\u001b[0m\u001b[0m\n\u001b[0m\u001b[1;32m      7\u001b[0m         \u001b[0mself\u001b[0m\u001b[0;34m.\u001b[0m\u001b[0mname\u001b[0m \u001b[0;34m=\u001b[0m \u001b[0mname\u001b[0m\u001b[0;34m\u001b[0m\u001b[0;34m\u001b[0m\u001b[0m\n\u001b[1;32m      8\u001b[0m \u001b[0;34m\u001b[0m\u001b[0m\n",
      "\u001b[0;32m~/opt/anaconda3/lib/python3.8/threading.py\u001b[0m in \u001b[0;36m__init__\u001b[0;34m(self, group, target, name, args, kwargs, daemon)\u001b[0m\n\u001b[1;32m    782\u001b[0m \u001b[0;34m\u001b[0m\u001b[0m\n\u001b[1;32m    783\u001b[0m         \"\"\"\n\u001b[0;32m--> 784\u001b[0;31m         \u001b[0;32massert\u001b[0m \u001b[0mgroup\u001b[0m \u001b[0;32mis\u001b[0m \u001b[0;32mNone\u001b[0m\u001b[0;34m,\u001b[0m \u001b[0;34m\"group argument must be None for now\"\u001b[0m\u001b[0;34m\u001b[0m\u001b[0;34m\u001b[0m\u001b[0m\n\u001b[0m\u001b[1;32m    785\u001b[0m         \u001b[0;32mif\u001b[0m \u001b[0mkwargs\u001b[0m \u001b[0;32mis\u001b[0m \u001b[0;32mNone\u001b[0m\u001b[0;34m:\u001b[0m\u001b[0;34m\u001b[0m\u001b[0;34m\u001b[0m\u001b[0m\n\u001b[1;32m    786\u001b[0m             \u001b[0mkwargs\u001b[0m \u001b[0;34m=\u001b[0m \u001b[0;34m{\u001b[0m\u001b[0;34m}\u001b[0m\u001b[0;34m\u001b[0m\u001b[0;34m\u001b[0m\u001b[0m\n",
      "\u001b[0;31mAssertionError\u001b[0m: group argument must be None for now"
     ]
    }
   ],
   "source": [
    "dict = {}\n",
    "for name in sub_types[:3]:\n",
    "    dict[name] = urlScrapper(name)\n",
    "\n",
    "for name in sub_types[:3]:\n",
    "    dict[name].start()"
   ]
  },
  {
   "cell_type": "code",
   "execution_count": null,
   "metadata": {},
   "outputs": [],
   "source": []
  }
 ],
 "metadata": {
  "interpreter": {
   "hash": "035582f836b3b677321f22d91e3ecd7d0de918b2dcad74c11c89643ea7e437a4"
  },
  "kernelspec": {
   "display_name": "Python 3.8.8 ('base')",
   "language": "python",
   "name": "python3"
  },
  "language_info": {
   "codemirror_mode": {
    "name": "ipython",
    "version": 3
   },
   "file_extension": ".py",
   "mimetype": "text/x-python",
   "name": "python",
   "nbconvert_exporter": "python",
   "pygments_lexer": "ipython3",
   "version": "3.8.8"
  },
  "orig_nbformat": 4
 },
 "nbformat": 4,
 "nbformat_minor": 2
}
